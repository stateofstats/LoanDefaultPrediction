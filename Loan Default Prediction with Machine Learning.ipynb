{
 "cells": [
  {
   "cell_type": "markdown",
   "id": "515f790c",
   "metadata": {},
   "source": [
    "# Loan Default Prediction with Machine Learning"
   ]
  },
  {
   "cell_type": "markdown",
   "id": "2a7ad495",
   "metadata": {},
   "source": [
    "### 1. Import Libraries"
   ]
  },
  {
   "cell_type": "code",
   "execution_count": 2,
   "id": "3412d8c8",
   "metadata": {},
   "outputs": [],
   "source": [
    "import pandas as pd\n",
    "import matplotlib.pyplot as plt\n",
    "import numpy as np\n",
    "import seaborn as sns"
   ]
  },
  {
   "cell_type": "markdown",
   "id": "2f2a84c4",
   "metadata": {},
   "source": [
    "### 2. Loading and exploring the data"
   ]
  },
  {
   "cell_type": "code",
   "execution_count": 3,
   "id": "b619d094",
   "metadata": {},
   "outputs": [],
   "source": [
    "# Load data\n",
    "loan_df = pd.read_csv('C:/Users/depet/vehicle_loans.csv', index_col = 'UNIQUEID')"
   ]
  },
  {
   "cell_type": "code",
   "execution_count": 4,
   "id": "9acf01e4",
   "metadata": {
    "scrolled": true
   },
   "outputs": [
    {
     "data": {
      "text/html": [
       "<div>\n",
       "<style scoped>\n",
       "    .dataframe tbody tr th:only-of-type {\n",
       "        vertical-align: middle;\n",
       "    }\n",
       "\n",
       "    .dataframe tbody tr th {\n",
       "        vertical-align: top;\n",
       "    }\n",
       "\n",
       "    .dataframe thead th {\n",
       "        text-align: right;\n",
       "    }\n",
       "</style>\n",
       "<table border=\"1\" class=\"dataframe\">\n",
       "  <thead>\n",
       "    <tr style=\"text-align: right;\">\n",
       "      <th></th>\n",
       "      <th>DISBURSED_AMOUNT</th>\n",
       "      <th>ASSET_COST</th>\n",
       "      <th>LTV</th>\n",
       "      <th>BRANCH_ID</th>\n",
       "      <th>SUPPLIER_ID</th>\n",
       "      <th>MANUFACTURER_ID</th>\n",
       "      <th>CURRENT_PINCODE_ID</th>\n",
       "      <th>DATE_OF_BIRTH</th>\n",
       "      <th>EMPLOYMENT_TYPE</th>\n",
       "      <th>DISBURSAL_DATE</th>\n",
       "      <th>...</th>\n",
       "      <th>SEC_SANCTIONED_AMOUNT</th>\n",
       "      <th>SEC_DISBURSED_AMOUNT</th>\n",
       "      <th>PRIMARY_INSTAL_AMT</th>\n",
       "      <th>SEC_INSTAL_AMT</th>\n",
       "      <th>NEW_ACCTS_IN_LAST_SIX_MONTHS</th>\n",
       "      <th>DELINQUENT_ACCTS_IN_LAST_SIX_MONTHS</th>\n",
       "      <th>AVERAGE_ACCT_AGE</th>\n",
       "      <th>CREDIT_HISTORY_LENGTH</th>\n",
       "      <th>NO_OF_INQUIRIES</th>\n",
       "      <th>LOAN_DEFAULT</th>\n",
       "    </tr>\n",
       "    <tr>\n",
       "      <th>UNIQUEID</th>\n",
       "      <th></th>\n",
       "      <th></th>\n",
       "      <th></th>\n",
       "      <th></th>\n",
       "      <th></th>\n",
       "      <th></th>\n",
       "      <th></th>\n",
       "      <th></th>\n",
       "      <th></th>\n",
       "      <th></th>\n",
       "      <th></th>\n",
       "      <th></th>\n",
       "      <th></th>\n",
       "      <th></th>\n",
       "      <th></th>\n",
       "      <th></th>\n",
       "      <th></th>\n",
       "      <th></th>\n",
       "      <th></th>\n",
       "      <th></th>\n",
       "      <th></th>\n",
       "    </tr>\n",
       "  </thead>\n",
       "  <tbody>\n",
       "    <tr>\n",
       "      <th>420825</th>\n",
       "      <td>50578</td>\n",
       "      <td>58400</td>\n",
       "      <td>89.55</td>\n",
       "      <td>67</td>\n",
       "      <td>22807</td>\n",
       "      <td>45</td>\n",
       "      <td>1441</td>\n",
       "      <td>01-01-1984</td>\n",
       "      <td>Salaried</td>\n",
       "      <td>03-08-2018</td>\n",
       "      <td>...</td>\n",
       "      <td>0</td>\n",
       "      <td>0</td>\n",
       "      <td>0</td>\n",
       "      <td>0</td>\n",
       "      <td>0</td>\n",
       "      <td>0</td>\n",
       "      <td>0yrs 0mon</td>\n",
       "      <td>0yrs 0mon</td>\n",
       "      <td>0</td>\n",
       "      <td>0</td>\n",
       "    </tr>\n",
       "    <tr>\n",
       "      <th>537409</th>\n",
       "      <td>47145</td>\n",
       "      <td>65550</td>\n",
       "      <td>73.23</td>\n",
       "      <td>67</td>\n",
       "      <td>22807</td>\n",
       "      <td>45</td>\n",
       "      <td>1502</td>\n",
       "      <td>31-07-1985</td>\n",
       "      <td>Self employed</td>\n",
       "      <td>26-09-2018</td>\n",
       "      <td>...</td>\n",
       "      <td>0</td>\n",
       "      <td>0</td>\n",
       "      <td>1991</td>\n",
       "      <td>0</td>\n",
       "      <td>0</td>\n",
       "      <td>1</td>\n",
       "      <td>1yrs 11mon</td>\n",
       "      <td>1yrs 11mon</td>\n",
       "      <td>0</td>\n",
       "      <td>1</td>\n",
       "    </tr>\n",
       "    <tr>\n",
       "      <th>417566</th>\n",
       "      <td>53278</td>\n",
       "      <td>61360</td>\n",
       "      <td>89.63</td>\n",
       "      <td>67</td>\n",
       "      <td>22807</td>\n",
       "      <td>45</td>\n",
       "      <td>1497</td>\n",
       "      <td>24-08-1985</td>\n",
       "      <td>Self employed</td>\n",
       "      <td>01-08-2018</td>\n",
       "      <td>...</td>\n",
       "      <td>0</td>\n",
       "      <td>0</td>\n",
       "      <td>0</td>\n",
       "      <td>0</td>\n",
       "      <td>0</td>\n",
       "      <td>0</td>\n",
       "      <td>0yrs 0mon</td>\n",
       "      <td>0yrs 0mon</td>\n",
       "      <td>0</td>\n",
       "      <td>0</td>\n",
       "    </tr>\n",
       "    <tr>\n",
       "      <th>624493</th>\n",
       "      <td>57513</td>\n",
       "      <td>66113</td>\n",
       "      <td>88.48</td>\n",
       "      <td>67</td>\n",
       "      <td>22807</td>\n",
       "      <td>45</td>\n",
       "      <td>1501</td>\n",
       "      <td>30-12-1993</td>\n",
       "      <td>Self employed</td>\n",
       "      <td>26-10-2018</td>\n",
       "      <td>...</td>\n",
       "      <td>0</td>\n",
       "      <td>0</td>\n",
       "      <td>31</td>\n",
       "      <td>0</td>\n",
       "      <td>0</td>\n",
       "      <td>0</td>\n",
       "      <td>0yrs 8mon</td>\n",
       "      <td>1yrs 3mon</td>\n",
       "      <td>1</td>\n",
       "      <td>1</td>\n",
       "    </tr>\n",
       "    <tr>\n",
       "      <th>539055</th>\n",
       "      <td>52378</td>\n",
       "      <td>60300</td>\n",
       "      <td>88.39</td>\n",
       "      <td>67</td>\n",
       "      <td>22807</td>\n",
       "      <td>45</td>\n",
       "      <td>1495</td>\n",
       "      <td>09-12-1977</td>\n",
       "      <td>Self employed</td>\n",
       "      <td>26-09-2018</td>\n",
       "      <td>...</td>\n",
       "      <td>0</td>\n",
       "      <td>0</td>\n",
       "      <td>0</td>\n",
       "      <td>0</td>\n",
       "      <td>0</td>\n",
       "      <td>0</td>\n",
       "      <td>0yrs 0mon</td>\n",
       "      <td>0yrs 0mon</td>\n",
       "      <td>1</td>\n",
       "      <td>1</td>\n",
       "    </tr>\n",
       "  </tbody>\n",
       "</table>\n",
       "<p>5 rows × 40 columns</p>\n",
       "</div>"
      ],
      "text/plain": [
       "          DISBURSED_AMOUNT  ASSET_COST    LTV  BRANCH_ID  SUPPLIER_ID  \\\n",
       "UNIQUEID                                                                \n",
       "420825               50578       58400  89.55         67        22807   \n",
       "537409               47145       65550  73.23         67        22807   \n",
       "417566               53278       61360  89.63         67        22807   \n",
       "624493               57513       66113  88.48         67        22807   \n",
       "539055               52378       60300  88.39         67        22807   \n",
       "\n",
       "          MANUFACTURER_ID  CURRENT_PINCODE_ID DATE_OF_BIRTH EMPLOYMENT_TYPE  \\\n",
       "UNIQUEID                                                                      \n",
       "420825                 45                1441    01-01-1984        Salaried   \n",
       "537409                 45                1502    31-07-1985   Self employed   \n",
       "417566                 45                1497    24-08-1985   Self employed   \n",
       "624493                 45                1501    30-12-1993   Self employed   \n",
       "539055                 45                1495    09-12-1977   Self employed   \n",
       "\n",
       "         DISBURSAL_DATE  ...  SEC_SANCTIONED_AMOUNT  SEC_DISBURSED_AMOUNT  \\\n",
       "UNIQUEID                 ...                                                \n",
       "420825       03-08-2018  ...                      0                     0   \n",
       "537409       26-09-2018  ...                      0                     0   \n",
       "417566       01-08-2018  ...                      0                     0   \n",
       "624493       26-10-2018  ...                      0                     0   \n",
       "539055       26-09-2018  ...                      0                     0   \n",
       "\n",
       "          PRIMARY_INSTAL_AMT  SEC_INSTAL_AMT  NEW_ACCTS_IN_LAST_SIX_MONTHS  \\\n",
       "UNIQUEID                                                                     \n",
       "420825                     0               0                             0   \n",
       "537409                  1991               0                             0   \n",
       "417566                     0               0                             0   \n",
       "624493                    31               0                             0   \n",
       "539055                     0               0                             0   \n",
       "\n",
       "          DELINQUENT_ACCTS_IN_LAST_SIX_MONTHS  AVERAGE_ACCT_AGE  \\\n",
       "UNIQUEID                                                          \n",
       "420825                                      0         0yrs 0mon   \n",
       "537409                                      1        1yrs 11mon   \n",
       "417566                                      0         0yrs 0mon   \n",
       "624493                                      0         0yrs 8mon   \n",
       "539055                                      0         0yrs 0mon   \n",
       "\n",
       "          CREDIT_HISTORY_LENGTH  NO_OF_INQUIRIES LOAN_DEFAULT  \n",
       "UNIQUEID                                                       \n",
       "420825                0yrs 0mon                0            0  \n",
       "537409               1yrs 11mon                0            1  \n",
       "417566                0yrs 0mon                0            0  \n",
       "624493                1yrs 3mon                1            1  \n",
       "539055                0yrs 0mon                1            1  \n",
       "\n",
       "[5 rows x 40 columns]"
      ]
     },
     "execution_count": 4,
     "metadata": {},
     "output_type": "execute_result"
    }
   ],
   "source": [
    "# Preview data\n",
    "loan_df.head()"
   ]
  },
  {
   "cell_type": "code",
   "execution_count": 5,
   "id": "3fedfa53",
   "metadata": {},
   "outputs": [
    {
     "data": {
      "text/plain": [
       "(233154, 40)"
      ]
     },
     "execution_count": 5,
     "metadata": {},
     "output_type": "execute_result"
    }
   ],
   "source": [
    "# Examine the shape of the data\n",
    "loan_df.shape"
   ]
  },
  {
   "cell_type": "code",
   "execution_count": 6,
   "id": "5b2da82e",
   "metadata": {},
   "outputs": [
    {
     "name": "stdout",
     "output_type": "stream",
     "text": [
      "<class 'pandas.core.frame.DataFrame'>\n",
      "Int64Index: 233154 entries, 420825 to 630213\n",
      "Data columns (total 40 columns):\n",
      " #   Column                               Non-Null Count   Dtype  \n",
      "---  ------                               --------------   -----  \n",
      " 0   DISBURSED_AMOUNT                     233154 non-null  int64  \n",
      " 1   ASSET_COST                           233154 non-null  int64  \n",
      " 2   LTV                                  233154 non-null  float64\n",
      " 3   BRANCH_ID                            233154 non-null  int64  \n",
      " 4   SUPPLIER_ID                          233154 non-null  int64  \n",
      " 5   MANUFACTURER_ID                      233154 non-null  int64  \n",
      " 6   CURRENT_PINCODE_ID                   233154 non-null  int64  \n",
      " 7   DATE_OF_BIRTH                        233154 non-null  object \n",
      " 8   EMPLOYMENT_TYPE                      225493 non-null  object \n",
      " 9   DISBURSAL_DATE                       233154 non-null  object \n",
      " 10  STATE_ID                             233154 non-null  int64  \n",
      " 11  EMPLOYEE_CODE_ID                     233154 non-null  int64  \n",
      " 12  MOBILENO_AVL_FLAG                    233154 non-null  int64  \n",
      " 13  AADHAR_FLAG                          233154 non-null  int64  \n",
      " 14  PAN_FLAG                             233154 non-null  int64  \n",
      " 15  VOTERID_FLAG                         233154 non-null  int64  \n",
      " 16  DRIVING_FLAG                         233154 non-null  int64  \n",
      " 17  PASSPORT_FLAG                        233154 non-null  int64  \n",
      " 18  PERFORM_CNS_SCORE                    233154 non-null  int64  \n",
      " 19  PERFORM_CNS_SCORE_DESCRIPTION        233154 non-null  object \n",
      " 20  PRI_NO_OF_ACCTS                      233154 non-null  int64  \n",
      " 21  PRI_ACTIVE_ACCTS                     233154 non-null  int64  \n",
      " 22  PRI_OVERDUE_ACCTS                    233154 non-null  int64  \n",
      " 23  PRI_CURRENT_BALANCE                  233154 non-null  int64  \n",
      " 24  PRI_SANCTIONED_AMOUNT                233154 non-null  int64  \n",
      " 25  PRI_DISBURSED_AMOUNT                 233154 non-null  int64  \n",
      " 26  SEC_NO_OF_ACCTS                      233154 non-null  int64  \n",
      " 27  SEC_ACTIVE_ACCTS                     233154 non-null  int64  \n",
      " 28  SEC_OVERDUE_ACCTS                    233154 non-null  int64  \n",
      " 29  SEC_CURRENT_BALANCE                  233154 non-null  int64  \n",
      " 30  SEC_SANCTIONED_AMOUNT                233154 non-null  int64  \n",
      " 31  SEC_DISBURSED_AMOUNT                 233154 non-null  int64  \n",
      " 32  PRIMARY_INSTAL_AMT                   233154 non-null  int64  \n",
      " 33  SEC_INSTAL_AMT                       233154 non-null  int64  \n",
      " 34  NEW_ACCTS_IN_LAST_SIX_MONTHS         233154 non-null  int64  \n",
      " 35  DELINQUENT_ACCTS_IN_LAST_SIX_MONTHS  233154 non-null  int64  \n",
      " 36  AVERAGE_ACCT_AGE                     233154 non-null  object \n",
      " 37  CREDIT_HISTORY_LENGTH                233154 non-null  object \n",
      " 38  NO_OF_INQUIRIES                      233154 non-null  int64  \n",
      " 39  LOAN_DEFAULT                         233154 non-null  int64  \n",
      "dtypes: float64(1), int64(33), object(6)\n",
      "memory usage: 72.9+ MB\n"
     ]
    }
   ],
   "source": [
    "# Examine the data types in each column\n",
    "loan_df.info()"
   ]
  },
  {
   "cell_type": "code",
   "execution_count": 7,
   "id": "56acdcfe",
   "metadata": {},
   "outputs": [
    {
     "name": "stderr",
     "output_type": "stream",
     "text": [
      "C:\\Users\\depet\\AppData\\Local\\Temp\\ipykernel_24068\\2480775020.py:2: UserWarning: Parsing dates in DD/MM/YYYY format when dayfirst=False (the default) was specified. This may lead to inconsistently parsed dates! Specify a format to ensure consistent parsing.\n",
      "  loan_df['DISBURSAL_DATE'] = pd.to_datetime(loan_df['DISBURSAL_DATE'])\n"
     ]
    }
   ],
   "source": [
    "# Examine time frame that the data contains\n",
    "loan_df['DISBURSAL_DATE'] = pd.to_datetime(loan_df['DISBURSAL_DATE'])"
   ]
  },
  {
   "cell_type": "code",
   "execution_count": 8,
   "id": "1a55ce93",
   "metadata": {},
   "outputs": [
    {
     "name": "stdout",
     "output_type": "stream",
     "text": [
      "Maximum Disbursal Date:  2018-12-10 00:00:00\n",
      "Minimum Disbursal Date:  2018-01-08 00:00:00\n"
     ]
    }
   ],
   "source": [
    "# Find start and end dates\n",
    "print('Maximum Disbursal Date: ', loan_df['DISBURSAL_DATE'].max())\n",
    "print('Minimum Disbursal Date: ', loan_df['DISBURSAL_DATE'].min())"
   ]
  },
  {
   "cell_type": "code",
   "execution_count": 9,
   "id": "ef591166",
   "metadata": {},
   "outputs": [
    {
     "name": "stdout",
     "output_type": "stream",
     "text": [
      "Timespan of Disbursal Date:  336 days 00:00:00\n"
     ]
    }
   ],
   "source": [
    "# Print the timespan\n",
    "print('Timespan of Disbursal Date: ', loan_df['DISBURSAL_DATE'].max() - loan_df['DISBURSAL_DATE'].min())"
   ]
  },
  {
   "cell_type": "markdown",
   "id": "1a48ddf1",
   "metadata": {},
   "source": [
    "#### LOAN_DEFAULT is the target variable. 1 means default, 0 means performing"
   ]
  },
  {
   "cell_type": "code",
   "execution_count": 10,
   "id": "1c64faf7",
   "metadata": {},
   "outputs": [
    {
     "data": {
      "text/plain": [
       "0    182543\n",
       "1     50611\n",
       "Name: LOAN_DEFAULT, dtype: int64"
      ]
     },
     "execution_count": 10,
     "metadata": {},
     "output_type": "execute_result"
    }
   ],
   "source": [
    "# Examine LOAN_DEFAULT\n",
    "loan_df['LOAN_DEFAULT'].value_counts()"
   ]
  },
  {
   "cell_type": "markdown",
   "id": "b7f44e6a",
   "metadata": {},
   "source": [
    "Of the 233,154 total loans, 50611 have defaulted. "
   ]
  },
  {
   "cell_type": "code",
   "execution_count": 12,
   "id": "795fa2e9",
   "metadata": {},
   "outputs": [
    {
     "data": {
      "text/plain": [
       "0    0.782929\n",
       "1    0.217071\n",
       "Name: LOAN_DEFAULT, dtype: float64"
      ]
     },
     "execution_count": 12,
     "metadata": {},
     "output_type": "execute_result"
    }
   ],
   "source": [
    "# Use 'normalize' to convert value counts to a percentage\n",
    "loan_df['LOAN_DEFAULT'].value_counts(normalize = True)"
   ]
  },
  {
   "cell_type": "markdown",
   "id": "10a8fd57",
   "metadata": {},
   "source": [
    "#### Visualize the target variable with Seaborn"
   ]
  },
  {
   "cell_type": "code",
   "execution_count": 16,
   "id": "5cecf5c1",
   "metadata": {},
   "outputs": [
    {
     "data": {
      "image/png": "[encoded data removed]",
      "text/plain": [
       "<Figure size 640x480 with 1 Axes>"
      ]
     },
     "metadata": {},
     "output_type": "display_data"
    }
   ],
   "source": [
    "# Plot the loan defaults\n",
    "sns.countplot(x = 'LOAN_DEFAULT', data = loan_df)\n",
    "plt.show();"
   ]
  },
  {
   "cell_type": "markdown",
   "id": "cd32a87f",
   "metadata": {},
   "source": [
    "### 4. Managing missing values"
   ]
  },
  {
   "cell_type": "code",
   "execution_count": 18,
   "id": "35c2634e",
   "metadata": {},
   "outputs": [
    {
     "data": {
      "text/plain": [
       "DISBURSED_AMOUNT                       False\n",
       "ASSET_COST                             False\n",
       "LTV                                    False\n",
       "BRANCH_ID                              False\n",
       "SUPPLIER_ID                            False\n",
       "MANUFACTURER_ID                        False\n",
       "CURRENT_PINCODE_ID                     False\n",
       "DATE_OF_BIRTH                          False\n",
       "EMPLOYMENT_TYPE                         True\n",
       "DISBURSAL_DATE                         False\n",
       "STATE_ID                               False\n",
       "EMPLOYEE_CODE_ID                       False\n",
       "MOBILENO_AVL_FLAG                      False\n",
       "AADHAR_FLAG                            False\n",
       "PAN_FLAG                               False\n",
       "VOTERID_FLAG                           False\n",
       "DRIVING_FLAG                           False\n",
       "PASSPORT_FLAG                          False\n",
       "PERFORM_CNS_SCORE                      False\n",
       "PERFORM_CNS_SCORE_DESCRIPTION          False\n",
       "PRI_NO_OF_ACCTS                        False\n",
       "PRI_ACTIVE_ACCTS                       False\n",
       "PRI_OVERDUE_ACCTS                      False\n",
       "PRI_CURRENT_BALANCE                    False\n",
       "PRI_SANCTIONED_AMOUNT                  False\n",
       "PRI_DISBURSED_AMOUNT                   False\n",
       "SEC_NO_OF_ACCTS                        False\n",
       "SEC_ACTIVE_ACCTS                       False\n",
       "SEC_OVERDUE_ACCTS                      False\n",
       "SEC_CURRENT_BALANCE                    False\n",
       "SEC_SANCTIONED_AMOUNT                  False\n",
       "SEC_DISBURSED_AMOUNT                   False\n",
       "PRIMARY_INSTAL_AMT                     False\n",
       "SEC_INSTAL_AMT                         False\n",
       "NEW_ACCTS_IN_LAST_SIX_MONTHS           False\n",
       "DELINQUENT_ACCTS_IN_LAST_SIX_MONTHS    False\n",
       "AVERAGE_ACCT_AGE                       False\n",
       "CREDIT_HISTORY_LENGTH                  False\n",
       "NO_OF_INQUIRIES                        False\n",
       "LOAN_DEFAULT                           False\n",
       "dtype: bool"
      ]
     },
     "execution_count": 18,
     "metadata": {},
     "output_type": "execute_result"
    }
   ],
   "source": [
    "# find columns with missing values\n",
    "loan_df.isnull().any()"
   ]
  },
  {
   "cell_type": "code",
   "execution_count": 19,
   "id": "71c2cc6c",
   "metadata": {},
   "outputs": [
    {
     "data": {
      "text/plain": [
       "DISBURSED_AMOUNT                          0\n",
       "ASSET_COST                                0\n",
       "LTV                                       0\n",
       "BRANCH_ID                                 0\n",
       "SUPPLIER_ID                               0\n",
       "MANUFACTURER_ID                           0\n",
       "CURRENT_PINCODE_ID                        0\n",
       "DATE_OF_BIRTH                             0\n",
       "EMPLOYMENT_TYPE                        7661\n",
       "DISBURSAL_DATE                            0\n",
       "STATE_ID                                  0\n",
       "EMPLOYEE_CODE_ID                          0\n",
       "MOBILENO_AVL_FLAG                         0\n",
       "AADHAR_FLAG                               0\n",
       "PAN_FLAG                                  0\n",
       "VOTERID_FLAG                              0\n",
       "DRIVING_FLAG                              0\n",
       "PASSPORT_FLAG                             0\n",
       "PERFORM_CNS_SCORE                         0\n",
       "PERFORM_CNS_SCORE_DESCRIPTION             0\n",
       "PRI_NO_OF_ACCTS                           0\n",
       "PRI_ACTIVE_ACCTS                          0\n",
       "PRI_OVERDUE_ACCTS                         0\n",
       "PRI_CURRENT_BALANCE                       0\n",
       "PRI_SANCTIONED_AMOUNT                     0\n",
       "PRI_DISBURSED_AMOUNT                      0\n",
       "SEC_NO_OF_ACCTS                           0\n",
       "SEC_ACTIVE_ACCTS                          0\n",
       "SEC_OVERDUE_ACCTS                         0\n",
       "SEC_CURRENT_BALANCE                       0\n",
       "SEC_SANCTIONED_AMOUNT                     0\n",
       "SEC_DISBURSED_AMOUNT                      0\n",
       "PRIMARY_INSTAL_AMT                        0\n",
       "SEC_INSTAL_AMT                            0\n",
       "NEW_ACCTS_IN_LAST_SIX_MONTHS              0\n",
       "DELINQUENT_ACCTS_IN_LAST_SIX_MONTHS       0\n",
       "AVERAGE_ACCT_AGE                          0\n",
       "CREDIT_HISTORY_LENGTH                     0\n",
       "NO_OF_INQUIRIES                           0\n",
       "LOAN_DEFAULT                              0\n",
       "dtype: int64"
      ]
     },
     "execution_count": 19,
     "metadata": {},
     "output_type": "execute_result"
    }
   ],
   "source": [
    "# Find count of missing values\n",
    "loan_df.isnull().sum()"
   ]
  },
  {
   "cell_type": "markdown",
   "id": "6a836a41",
   "metadata": {},
   "source": [
    "#### Explore the Employment_Type column"
   ]
  },
  {
   "cell_type": "code",
   "execution_count": 20,
   "id": "c58662a6",
   "metadata": {},
   "outputs": [
    {
     "name": "stdout",
     "output_type": "stream",
     "text": [
      "Self employed    127635\n",
      "Salaried          97858\n",
      "Name: EMPLOYMENT_TYPE, dtype: int64\n"
     ]
    },
    {
     "data": {
      "image/png": "[encoded data removed]",
      "text/plain": [
       "<Figure size 640x480 with 1 Axes>"
      ]
     },
     "metadata": {},
     "output_type": "display_data"
    }
   ],
   "source": [
    "print(loan_df['EMPLOYMENT_TYPE'].value_counts())\n",
    "sns.countplot(x = 'EMPLOYMENT_TYPE', data = loan_df)\n",
    "plt.show();"
   ]
  },
  {
   "cell_type": "code",
   "execution_count": 21,
   "id": "c1c90592",
   "metadata": {},
   "outputs": [],
   "source": [
    "# Fill the missing values with \"Missing\"\n",
    "loan_df = loan_df.fillna(value = {'EMPLOYMENT_TYPE' : 'Missing'})"
   ]
  },
  {
   "cell_type": "code",
   "execution_count": 22,
   "id": "7f952d1e",
   "metadata": {},
   "outputs": [
    {
     "name": "stdout",
     "output_type": "stream",
     "text": [
      "Self employed    127635\n",
      "Salaried          97858\n",
      "Missing            7661\n",
      "Name: EMPLOYMENT_TYPE, dtype: int64\n"
     ]
    },
    {
     "data": {
      "image/png": "[encoded data removed]",
      "text/plain": [
       "<Figure size 640x480 with 1 Axes>"
      ]
     },
     "metadata": {},
     "output_type": "display_data"
    }
   ],
   "source": [
    "# Graph the counts again after filling in missing data\n",
    "print(loan_df['EMPLOYMENT_TYPE'].value_counts())\n",
    "sns.countplot(x = 'EMPLOYMENT_TYPE', data = loan_df)\n",
    "plt.show();"
   ]
  },
  {
   "cell_type": "code",
   "execution_count": 23,
   "id": "7040c791",
   "metadata": {},
   "outputs": [
    {
     "data": {
      "text/plain": [
       "Self employed    0.547428\n",
       "Salaried         0.419714\n",
       "Missing          0.032858\n",
       "Name: EMPLOYMENT_TYPE, dtype: float64"
      ]
     },
     "execution_count": 23,
     "metadata": {},
     "output_type": "execute_result"
    }
   ],
   "source": [
    "loan_df['EMPLOYMENT_TYPE'].value_counts(normalize = True)"
   ]
  },
  {
   "cell_type": "markdown",
   "id": "f897cfad",
   "metadata": {},
   "source": [
    "Roughly 3% of the borrowers do not have employment data"
   ]
  },
  {
   "cell_type": "markdown",
   "id": "e4c0949e",
   "metadata": {},
   "source": [
    "### 5. Managing date values"
   ]
  },
  {
   "cell_type": "code",
   "execution_count": 35,
   "id": "7c09afb3",
   "metadata": {},
   "outputs": [
    {
     "data": {
      "text/html": [
       "<div>\n",
       "<style scoped>\n",
       "    .dataframe tbody tr th:only-of-type {\n",
       "        vertical-align: middle;\n",
       "    }\n",
       "\n",
       "    .dataframe tbody tr th {\n",
       "        vertical-align: top;\n",
       "    }\n",
       "\n",
       "    .dataframe thead th {\n",
       "        text-align: right;\n",
       "    }\n",
       "</style>\n",
       "<table border=\"1\" class=\"dataframe\">\n",
       "  <thead>\n",
       "    <tr style=\"text-align: right;\">\n",
       "      <th></th>\n",
       "      <th>DISBURSAL_DATE</th>\n",
       "      <th>DATE_OF_BIRTH</th>\n",
       "    </tr>\n",
       "    <tr>\n",
       "      <th>UNIQUEID</th>\n",
       "      <th></th>\n",
       "      <th></th>\n",
       "    </tr>\n",
       "  </thead>\n",
       "  <tbody>\n",
       "    <tr>\n",
       "      <th>420825</th>\n",
       "      <td>2018-03-08</td>\n",
       "      <td>1984-01-01</td>\n",
       "    </tr>\n",
       "    <tr>\n",
       "      <th>537409</th>\n",
       "      <td>2018-09-26</td>\n",
       "      <td>1985-07-31</td>\n",
       "    </tr>\n",
       "    <tr>\n",
       "      <th>417566</th>\n",
       "      <td>2018-01-08</td>\n",
       "      <td>1985-08-24</td>\n",
       "    </tr>\n",
       "    <tr>\n",
       "      <th>624493</th>\n",
       "      <td>2018-10-26</td>\n",
       "      <td>1993-12-30</td>\n",
       "    </tr>\n",
       "    <tr>\n",
       "      <th>539055</th>\n",
       "      <td>2018-09-26</td>\n",
       "      <td>1977-09-12</td>\n",
       "    </tr>\n",
       "  </tbody>\n",
       "</table>\n",
       "</div>"
      ],
      "text/plain": [
       "         DISBURSAL_DATE DATE_OF_BIRTH\n",
       "UNIQUEID                             \n",
       "420825       2018-03-08    1984-01-01\n",
       "537409       2018-09-26    1985-07-31\n",
       "417566       2018-01-08    1985-08-24\n",
       "624493       2018-10-26    1993-12-30\n",
       "539055       2018-09-26    1977-09-12"
      ]
     },
     "execution_count": 35,
     "metadata": {},
     "output_type": "execute_result"
    }
   ],
   "source": [
    "# Inspect the date columns: DISBURSAL_DATE and DATE_OF_BIRTH\n",
    "loan_df[['DISBURSAL_DATE', 'DATE_OF_BIRTH']].head()"
   ]
  },
  {
   "cell_type": "code",
   "execution_count": 34,
   "id": "9ad8e4e0",
   "metadata": {},
   "outputs": [
    {
     "name": "stdout",
     "output_type": "stream",
     "text": [
      "         DATE_OF_BIRTH  AGE DISBURSAL_DATE\n",
      "UNIQUEID                                  \n",
      "420825      1984-01-01   34     2018-03-08\n",
      "537409      1985-07-31   33     2018-09-26\n",
      "417566      1985-08-24   32     2018-01-08\n",
      "624493      1993-12-30   24     2018-10-26\n",
      "539055      1977-09-12   41     2018-09-26\n"
     ]
    }
   ],
   "source": [
    "# Convert dates to datetime type\n",
    "loan_df['DISBURSAL_DATE'] = pd.to_datetime(loan_df['DISBURSAL_DATE'])\n",
    "loan_df['DATE_OF_BIRTH'] = pd.to_datetime(loan_df['DATE_OF_BIRTH'], format = '%dd-%mm-%yyyy')\n",
    "\n",
    "# Calculate the borrowers age at the time of disbursal\n",
    "loan_df['AGE'] = loan_df['DISBURSAL_DATE'] - loan_df['DATE_OF_BIRTH']\n",
    "loan_df['AGE'] = loan_df['AGE'] // np.timedelta64(1, 'Y')\n",
    "\n",
    "# Print a portion of the results\n",
    "print(loan_df[['DATE_OF_BIRTH', 'AGE', 'DISBURSAL_DATE']].head())"
   ]
  },
  {
   "cell_type": "code",
   "execution_count": 39,
   "id": "022725cb",
   "metadata": {},
   "outputs": [],
   "source": [
    "# Create a new column for month of disbursal\n",
    "loan_df['DISBURSAL_MONTH'] = loan_df['DISBURSAL_DATE'].dt.month"
   ]
  },
  {
   "cell_type": "code",
   "execution_count": 40,
   "id": "1af137b9",
   "metadata": {},
   "outputs": [
    {
     "data": {
      "text/plain": [
       "10    84875\n",
       "8     56975\n",
       "9     54443\n",
       "11     6709\n",
       "6      5991\n",
       "12     5613\n",
       "3      5148\n",
       "4      4627\n",
       "7      4150\n",
       "5      2890\n",
       "1      1708\n",
       "2        25\n",
       "Name: DISBURSAL_MONTH, dtype: int64"
      ]
     },
     "execution_count": 40,
     "metadata": {},
     "output_type": "execute_result"
    }
   ],
   "source": [
    "loan_df['DISBURSAL_MONTH'].value_counts()"
   ]
  },
  {
   "cell_type": "markdown",
   "id": "014c6e17",
   "metadata": {},
   "source": [
    "### 6. Fixing string columns"
   ]
  },
  {
   "cell_type": "code",
   "execution_count": null,
   "id": "d52d845e",
   "metadata": {},
   "outputs": [],
   "source": []
  }
 ],
 "metadata": {
  "kernelspec": {
   "display_name": "Python 3 (ipykernel)",
   "language": "python",
   "name": "python3"
  },
  "language_info": {
   "codemirror_mode": {
    "name": "ipython",
    "version": 3
   },
   "file_extension": ".py",
   "mimetype": "text/x-python",
   "name": "python",
   "nbconvert_exporter": "python",
   "pygments_lexer": "ipython3",
   "version": "3.10.9"
  }
 },
 "nbformat": 4,
 "nbformat_minor": 5
}
