{
 "cells": [
  {
   "cell_type": "markdown",
   "id": "515f790c",
   "metadata": {},
   "source": [
    "# Loan Default Prediction with Machine Learning"
   ]
  },
  {
   "cell_type": "markdown",
   "id": "2a7ad495",
   "metadata": {},
   "source": [
    "### 1. Import Libraries"
   ]
  },
  {
   "cell_type": "code",
   "execution_count": 2,
   "id": "3412d8c8",
   "metadata": {},
   "outputs": [],
   "source": [
    "import pandas as pd\n",
    "import matplotlib.pyplot as plt\n",
    "import numpy as np\n",
    "import seaborn as sns"
   ]
  },
  {
   "cell_type": "markdown",
   "id": "2f2a84c4",
   "metadata": {},
   "source": [
    "### 2. Loading and exploring the data"
   ]
  },
  {
   "cell_type": "code",
   "execution_count": 3,
   "id": "b619d094",
   "metadata": {},
   "outputs": [],
   "source": [
    "# Load data\n",
    "loan_df = pd.read_csv('C:/Users/depet/vehicle_loans.csv', index_col = 'UNIQUEID')"
   ]
  },
  {
   "cell_type": "code",
   "execution_count": 4,
   "id": "9acf01e4",
   "metadata": {
    "scrolled": true
   },
   "outputs": [
    {
     "data": {
      "text/html": [
       "<div>\n",
       "<style scoped>\n",
       "    .dataframe tbody tr th:only-of-type {\n",
       "        vertical-align: middle;\n",
       "    }\n",
       "\n",
       "    .dataframe tbody tr th {\n",
       "        vertical-align: top;\n",
       "    }\n",
       "\n",
       "    .dataframe thead th {\n",
       "        text-align: right;\n",
       "    }\n",
       "</style>\n",
       "<table border=\"1\" class=\"dataframe\">\n",
       "  <thead>\n",
       "    <tr style=\"text-align: right;\">\n",
       "      <th></th>\n",
       "      <th>DISBURSED_AMOUNT</th>\n",
       "      <th>ASSET_COST</th>\n",
       "      <th>LTV</th>\n",
       "      <th>BRANCH_ID</th>\n",
       "      <th>SUPPLIER_ID</th>\n",
       "      <th>MANUFACTURER_ID</th>\n",
       "      <th>CURRENT_PINCODE_ID</th>\n",
       "      <th>DATE_OF_BIRTH</th>\n",
       "      <th>EMPLOYMENT_TYPE</th>\n",
       "      <th>DISBURSAL_DATE</th>\n",
       "      <th>...</th>\n",
       "      <th>SEC_SANCTIONED_AMOUNT</th>\n",
       "      <th>SEC_DISBURSED_AMOUNT</th>\n",
       "      <th>PRIMARY_INSTAL_AMT</th>\n",
       "      <th>SEC_INSTAL_AMT</th>\n",
       "      <th>NEW_ACCTS_IN_LAST_SIX_MONTHS</th>\n",
       "      <th>DELINQUENT_ACCTS_IN_LAST_SIX_MONTHS</th>\n",
       "      <th>AVERAGE_ACCT_AGE</th>\n",
       "      <th>CREDIT_HISTORY_LENGTH</th>\n",
       "      <th>NO_OF_INQUIRIES</th>\n",
       "      <th>LOAN_DEFAULT</th>\n",
       "    </tr>\n",
       "    <tr>\n",
       "      <th>UNIQUEID</th>\n",
       "      <th></th>\n",
       "      <th></th>\n",
       "      <th></th>\n",
       "      <th></th>\n",
       "      <th></th>\n",
       "      <th></th>\n",
       "      <th></th>\n",
       "      <th></th>\n",
       "      <th></th>\n",
       "      <th></th>\n",
       "      <th></th>\n",
       "      <th></th>\n",
       "      <th></th>\n",
       "      <th></th>\n",
       "      <th></th>\n",
       "      <th></th>\n",
       "      <th></th>\n",
       "      <th></th>\n",
       "      <th></th>\n",
       "      <th></th>\n",
       "      <th></th>\n",
       "    </tr>\n",
       "  </thead>\n",
       "  <tbody>\n",
       "    <tr>\n",
       "      <th>420825</th>\n",
       "      <td>50578</td>\n",
       "      <td>58400</td>\n",
       "      <td>89.55</td>\n",
       "      <td>67</td>\n",
       "      <td>22807</td>\n",
       "      <td>45</td>\n",
       "      <td>1441</td>\n",
       "      <td>01-01-1984</td>\n",
       "      <td>Salaried</td>\n",
       "      <td>03-08-2018</td>\n",
       "      <td>...</td>\n",
       "      <td>0</td>\n",
       "      <td>0</td>\n",
       "      <td>0</td>\n",
       "      <td>0</td>\n",
       "      <td>0</td>\n",
       "      <td>0</td>\n",
       "      <td>0yrs 0mon</td>\n",
       "      <td>0yrs 0mon</td>\n",
       "      <td>0</td>\n",
       "      <td>0</td>\n",
       "    </tr>\n",
       "    <tr>\n",
       "      <th>537409</th>\n",
       "      <td>47145</td>\n",
       "      <td>65550</td>\n",
       "      <td>73.23</td>\n",
       "      <td>67</td>\n",
       "      <td>22807</td>\n",
       "      <td>45</td>\n",
       "      <td>1502</td>\n",
       "      <td>31-07-1985</td>\n",
       "      <td>Self employed</td>\n",
       "      <td>26-09-2018</td>\n",
       "      <td>...</td>\n",
       "      <td>0</td>\n",
       "      <td>0</td>\n",
       "      <td>1991</td>\n",
       "      <td>0</td>\n",
       "      <td>0</td>\n",
       "      <td>1</td>\n",
       "      <td>1yrs 11mon</td>\n",
       "      <td>1yrs 11mon</td>\n",
       "      <td>0</td>\n",
       "      <td>1</td>\n",
       "    </tr>\n",
       "    <tr>\n",
       "      <th>417566</th>\n",
       "      <td>53278</td>\n",
       "      <td>61360</td>\n",
       "      <td>89.63</td>\n",
       "      <td>67</td>\n",
       "      <td>22807</td>\n",
       "      <td>45</td>\n",
       "      <td>1497</td>\n",
       "      <td>24-08-1985</td>\n",
       "      <td>Self employed</td>\n",
       "      <td>01-08-2018</td>\n",
       "      <td>...</td>\n",
       "      <td>0</td>\n",
       "      <td>0</td>\n",
       "      <td>0</td>\n",
       "      <td>0</td>\n",
       "      <td>0</td>\n",
       "      <td>0</td>\n",
       "      <td>0yrs 0mon</td>\n",
       "      <td>0yrs 0mon</td>\n",
       "      <td>0</td>\n",
       "      <td>0</td>\n",
       "    </tr>\n",
       "    <tr>\n",
       "      <th>624493</th>\n",
       "      <td>57513</td>\n",
       "      <td>66113</td>\n",
       "      <td>88.48</td>\n",
       "      <td>67</td>\n",
       "      <td>22807</td>\n",
       "      <td>45</td>\n",
       "      <td>1501</td>\n",
       "      <td>30-12-1993</td>\n",
       "      <td>Self employed</td>\n",
       "      <td>26-10-2018</td>\n",
       "      <td>...</td>\n",
       "      <td>0</td>\n",
       "      <td>0</td>\n",
       "      <td>31</td>\n",
       "      <td>0</td>\n",
       "      <td>0</td>\n",
       "      <td>0</td>\n",
       "      <td>0yrs 8mon</td>\n",
       "      <td>1yrs 3mon</td>\n",
       "      <td>1</td>\n",
       "      <td>1</td>\n",
       "    </tr>\n",
       "    <tr>\n",
       "      <th>539055</th>\n",
       "      <td>52378</td>\n",
       "      <td>60300</td>\n",
       "      <td>88.39</td>\n",
       "      <td>67</td>\n",
       "      <td>22807</td>\n",
       "      <td>45</td>\n",
       "      <td>1495</td>\n",
       "      <td>09-12-1977</td>\n",
       "      <td>Self employed</td>\n",
       "      <td>26-09-2018</td>\n",
       "      <td>...</td>\n",
       "      <td>0</td>\n",
       "      <td>0</td>\n",
       "      <td>0</td>\n",
       "      <td>0</td>\n",
       "      <td>0</td>\n",
       "      <td>0</td>\n",
       "      <td>0yrs 0mon</td>\n",
       "      <td>0yrs 0mon</td>\n",
       "      <td>1</td>\n",
       "      <td>1</td>\n",
       "    </tr>\n",
       "  </tbody>\n",
       "</table>\n",
       "<p>5 rows × 40 columns</p>\n",
       "</div>"
      ],
      "text/plain": [
       "          DISBURSED_AMOUNT  ASSET_COST    LTV  BRANCH_ID  SUPPLIER_ID  \\\n",
       "UNIQUEID                                                                \n",
       "420825               50578       58400  89.55         67        22807   \n",
       "537409               47145       65550  73.23         67        22807   \n",
       "417566               53278       61360  89.63         67        22807   \n",
       "624493               57513       66113  88.48         67        22807   \n",
       "539055               52378       60300  88.39         67        22807   \n",
       "\n",
       "          MANUFACTURER_ID  CURRENT_PINCODE_ID DATE_OF_BIRTH EMPLOYMENT_TYPE  \\\n",
       "UNIQUEID                                                                      \n",
       "420825                 45                1441    01-01-1984        Salaried   \n",
       "537409                 45                1502    31-07-1985   Self employed   \n",
       "417566                 45                1497    24-08-1985   Self employed   \n",
       "624493                 45                1501    30-12-1993   Self employed   \n",
       "539055                 45                1495    09-12-1977   Self employed   \n",
       "\n",
       "         DISBURSAL_DATE  ...  SEC_SANCTIONED_AMOUNT  SEC_DISBURSED_AMOUNT  \\\n",
       "UNIQUEID                 ...                                                \n",
       "420825       03-08-2018  ...                      0                     0   \n",
       "537409       26-09-2018  ...                      0                     0   \n",
       "417566       01-08-2018  ...                      0                     0   \n",
       "624493       26-10-2018  ...                      0                     0   \n",
       "539055       26-09-2018  ...                      0                     0   \n",
       "\n",
       "          PRIMARY_INSTAL_AMT  SEC_INSTAL_AMT  NEW_ACCTS_IN_LAST_SIX_MONTHS  \\\n",
       "UNIQUEID                                                                     \n",
       "420825                     0               0                             0   \n",
       "537409                  1991               0                             0   \n",
       "417566                     0               0                             0   \n",
       "624493                    31               0                             0   \n",
       "539055                     0               0                             0   \n",
       "\n",
       "          DELINQUENT_ACCTS_IN_LAST_SIX_MONTHS  AVERAGE_ACCT_AGE  \\\n",
       "UNIQUEID                                                          \n",
       "420825                                      0         0yrs 0mon   \n",
       "537409                                      1        1yrs 11mon   \n",
       "417566                                      0         0yrs 0mon   \n",
       "624493                                      0         0yrs 8mon   \n",
       "539055                                      0         0yrs 0mon   \n",
       "\n",
       "          CREDIT_HISTORY_LENGTH  NO_OF_INQUIRIES LOAN_DEFAULT  \n",
       "UNIQUEID                                                       \n",
       "420825                0yrs 0mon                0            0  \n",
       "537409               1yrs 11mon                0            1  \n",
       "417566                0yrs 0mon                0            0  \n",
       "624493                1yrs 3mon                1            1  \n",
       "539055                0yrs 0mon                1            1  \n",
       "\n",
       "[5 rows x 40 columns]"
      ]
     },
     "execution_count": 4,
     "metadata": {},
     "output_type": "execute_result"
    }
   ],
   "source": [
    "# Preview data\n",
    "loan_df.head()"
   ]
  },
  {
   "cell_type": "code",
   "execution_count": 5,
   "id": "3fedfa53",
   "metadata": {},
   "outputs": [
    {
     "data": {
      "text/plain": [
       "(233154, 40)"
      ]
     },
     "execution_count": 5,
     "metadata": {},
     "output_type": "execute_result"
    }
   ],
   "source": [
    "# Examine the shape of the data\n",
    "loan_df.shape"
   ]
  },
  {
   "cell_type": "code",
   "execution_count": 6,
   "id": "5b2da82e",
   "metadata": {},
   "outputs": [
    {
     "name": "stdout",
     "output_type": "stream",
     "text": [
      "<class 'pandas.core.frame.DataFrame'>\n",
      "Int64Index: 233154 entries, 420825 to 630213\n",
      "Data columns (total 40 columns):\n",
      " #   Column                               Non-Null Count   Dtype  \n",
      "---  ------                               --------------   -----  \n",
      " 0   DISBURSED_AMOUNT                     233154 non-null  int64  \n",
      " 1   ASSET_COST                           233154 non-null  int64  \n",
      " 2   LTV                                  233154 non-null  float64\n",
      " 3   BRANCH_ID                            233154 non-null  int64  \n",
      " 4   SUPPLIER_ID                          233154 non-null  int64  \n",
      " 5   MANUFACTURER_ID                      233154 non-null  int64  \n",
      " 6   CURRENT_PINCODE_ID                   233154 non-null  int64  \n",
      " 7   DATE_OF_BIRTH                        233154 non-null  object \n",
      " 8   EMPLOYMENT_TYPE                      225493 non-null  object \n",
      " 9   DISBURSAL_DATE                       233154 non-null  object \n",
      " 10  STATE_ID                             233154 non-null  int64  \n",
      " 11  EMPLOYEE_CODE_ID                     233154 non-null  int64  \n",
      " 12  MOBILENO_AVL_FLAG                    233154 non-null  int64  \n",
      " 13  AADHAR_FLAG                          233154 non-null  int64  \n",
      " 14  PAN_FLAG                             233154 non-null  int64  \n",
      " 15  VOTERID_FLAG                         233154 non-null  int64  \n",
      " 16  DRIVING_FLAG                         233154 non-null  int64  \n",
      " 17  PASSPORT_FLAG                        233154 non-null  int64  \n",
      " 18  PERFORM_CNS_SCORE                    233154 non-null  int64  \n",
      " 19  PERFORM_CNS_SCORE_DESCRIPTION        233154 non-null  object \n",
      " 20  PRI_NO_OF_ACCTS                      233154 non-null  int64  \n",
      " 21  PRI_ACTIVE_ACCTS                     233154 non-null  int64  \n",
      " 22  PRI_OVERDUE_ACCTS                    233154 non-null  int64  \n",
      " 23  PRI_CURRENT_BALANCE                  233154 non-null  int64  \n",
      " 24  PRI_SANCTIONED_AMOUNT                233154 non-null  int64  \n",
      " 25  PRI_DISBURSED_AMOUNT                 233154 non-null  int64  \n",
      " 26  SEC_NO_OF_ACCTS                      233154 non-null  int64  \n",
      " 27  SEC_ACTIVE_ACCTS                     233154 non-null  int64  \n",
      " 28  SEC_OVERDUE_ACCTS                    233154 non-null  int64  \n",
      " 29  SEC_CURRENT_BALANCE                  233154 non-null  int64  \n",
      " 30  SEC_SANCTIONED_AMOUNT                233154 non-null  int64  \n",
      " 31  SEC_DISBURSED_AMOUNT                 233154 non-null  int64  \n",
      " 32  PRIMARY_INSTAL_AMT                   233154 non-null  int64  \n",
      " 33  SEC_INSTAL_AMT                       233154 non-null  int64  \n",
      " 34  NEW_ACCTS_IN_LAST_SIX_MONTHS         233154 non-null  int64  \n",
      " 35  DELINQUENT_ACCTS_IN_LAST_SIX_MONTHS  233154 non-null  int64  \n",
      " 36  AVERAGE_ACCT_AGE                     233154 non-null  object \n",
      " 37  CREDIT_HISTORY_LENGTH                233154 non-null  object \n",
      " 38  NO_OF_INQUIRIES                      233154 non-null  int64  \n",
      " 39  LOAN_DEFAULT                         233154 non-null  int64  \n",
      "dtypes: float64(1), int64(33), object(6)\n",
      "memory usage: 72.9+ MB\n"
     ]
    }
   ],
   "source": [
    "# Examine the data types in each column\n",
    "loan_df.info()"
   ]
  },
  {
   "cell_type": "code",
   "execution_count": 7,
   "id": "56acdcfe",
   "metadata": {},
   "outputs": [
    {
     "name": "stderr",
     "output_type": "stream",
     "text": [
      "C:\\Users\\depet\\AppData\\Local\\Temp\\ipykernel_24068\\2480775020.py:2: UserWarning: Parsing dates in DD/MM/YYYY format when dayfirst=False (the default) was specified. This may lead to inconsistently parsed dates! Specify a format to ensure consistent parsing.\n",
      "  loan_df['DISBURSAL_DATE'] = pd.to_datetime(loan_df['DISBURSAL_DATE'])\n"
     ]
    }
   ],
   "source": [
    "# Examine time frame that the data contains\n",
    "loan_df['DISBURSAL_DATE'] = pd.to_datetime(loan_df['DISBURSAL_DATE'])"
   ]
  },
  {
   "cell_type": "code",
   "execution_count": 8,
   "id": "1a55ce93",
   "metadata": {},
   "outputs": [
    {
     "name": "stdout",
     "output_type": "stream",
     "text": [
      "Maximum Disbursal Date:  2018-12-10 00:00:00\n",
      "Minimum Disbursal Date:  2018-01-08 00:00:00\n"
     ]
    }
   ],
   "source": [
    "# Find start and end dates\n",
    "print('Maximum Disbursal Date: ', loan_df['DISBURSAL_DATE'].max())\n",
    "print('Minimum Disbursal Date: ', loan_df['DISBURSAL_DATE'].min())"
   ]
  },
  {
   "cell_type": "code",
   "execution_count": 9,
   "id": "ef591166",
   "metadata": {},
   "outputs": [
    {
     "name": "stdout",
     "output_type": "stream",
     "text": [
      "Timespan of Disbursal Date:  336 days 00:00:00\n"
     ]
    }
   ],
   "source": [
    "# Print the timespan\n",
    "print('Timespan of Disbursal Date: ', loan_df['DISBURSAL_DATE'].max() - loan_df['DISBURSAL_DATE'].min())"
   ]
  },
  {
   "cell_type": "markdown",
   "id": "813f119e",
   "metadata": {},
   "source": [
    "#### LOAN_DEFAULT is the target variable. 1 means default, 0 means performing"
   ]
  },
  {
   "cell_type": "code",
   "execution_count": 10,
   "id": "f80fafd8",
   "metadata": {},
   "outputs": [
    {
     "data": {
      "text/plain": [
       "0    182543\n",
       "1     50611\n",
       "Name: LOAN_DEFAULT, dtype: int64"
      ]
     },
     "execution_count": 10,
     "metadata": {},
     "output_type": "execute_result"
    }
   ],
   "source": [
    "# Examine LOAN_DEFAULT\n",
    "loan_df['LOAN_DEFAULT'].value_counts()"
   ]
  },
  {
   "cell_type": "markdown",
   "id": "2e859ea4",
   "metadata": {},
   "source": [
    "Of the 233,154 total loans, 50611 have defaulted. "
   ]
  },
  {
   "cell_type": "code",
   "execution_count": 12,
   "id": "03529385",
   "metadata": {},
   "outputs": [
    {
     "data": {
      "text/plain": [
       "0    0.782929\n",
       "1    0.217071\n",
       "Name: LOAN_DEFAULT, dtype: float64"
      ]
     },
     "execution_count": 12,
     "metadata": {},
     "output_type": "execute_result"
    }
   ],
   "source": [
    "# Use 'normalize' to get convert value counts to a percentage\n",
    "loan_df['LOAN_DEFAULT'].value_counts(normalize = True)"
   ]
  },
  {
   "cell_type": "markdown",
   "id": "e51bdaa6",
   "metadata": {},
   "source": [
    "#### Visualize the target variable with Seaborn"
   ]
  },
  {
   "cell_type": "code",
   "execution_count": 16,
   "id": "f9043c9d",
   "metadata": {},
   "outputs": [
    {
     "data": {
      "image/png": "[encoded data removed]",
      "text/plain": [
       "<Figure size 640x480 with 1 Axes>"
      ]
     },
     "metadata": {},
     "output_type": "display_data"
    }
   ],
   "source": [
    "# Plot the loan defaults\n",
    "sns.countplot(x = 'LOAN_DEFAULT', data = loan_df)\n",
    "plt.show();"
   ]
  },
  {
   "cell_type": "markdown",
   "id": "2bfa4d10",
   "metadata": {},
   "source": [
    "### 4. Managing missing values"
   ]
  },
  {
   "cell_type": "code",
   "execution_count": null,
   "id": "5e9a3ab0",
   "metadata": {},
   "outputs": [],
   "source": []
  }
 ],
 "metadata": {
  "kernelspec": {
   "display_name": "Python 3 (ipykernel)",
   "language": "python",
   "name": "python3"
  },
  "language_info": {
   "codemirror_mode": {
    "name": "ipython",
    "version": 3
   },
   "file_extension": ".py",
   "mimetype": "text/x-python",
   "name": "python",
   "nbconvert_exporter": "python",
   "pygments_lexer": "ipython3",
   "version": "3.10.9"
  }
 },
 "nbformat": 4,
 "nbformat_minor": 5
}
